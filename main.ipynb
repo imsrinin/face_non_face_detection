{
 "cells": [
  {
   "cell_type": "code",
   "execution_count": 1,
   "id": "70bcf39a",
   "metadata": {},
   "outputs": [],
   "source": [
    "import numpy as np\n",
    "import cv2\n",
    "import glob\n",
    "import random\n",
    "import pandas as pd\n",
    "from random import random\n",
    "import tensorflow as tf\n",
    "from tensorflow.keras.utils import to_categorical\n",
    "from sklearn.model_selection import train_test_split\n",
    "import keras\n",
    "import math\n",
    "from tensorflow.keras.losses import categorical_crossentropy\n",
    "from tensorflow.keras import regularizers\n",
    "from keras.models import Sequential\n",
    "from tensorflow.keras.layers import BatchNormalization\n",
    "from keras.layers.convolutional import Conv2D\n",
    "from keras.layers.convolutional import AveragePooling2D\n",
    "from keras.layers.core import Activation\n",
    "from keras.layers.core import Flatten\n",
    "from keras.layers.core import Dropout\n",
    "from keras.layers.core import Dense\n",
    "from tensorflow.keras.preprocessing.image import ImageDataGenerator\n",
    "from sklearn.metrics import classification_report\n",
    "import matplotlib.pyplot as plt"
   ]
  },
  {
   "cell_type": "code",
   "execution_count": 2,
   "id": "b8905674",
   "metadata": {},
   "outputs": [],
   "source": [
    "# store path in var\n",
    "face_path = '/Users/srini/Desktop/Computer_Vision/Proj3/FaceData/Pos/'\n",
    "n_face_path = '/Users/srini/Desktop/Computer_Vision/Proj3/FaceData/Neg'\n",
    "\n",
    "# reading images from the folder\n",
    "def im_read_dir(path):\n",
    "    list_images = []\n",
    "    for imagepath in glob.glob(path+'/*.jpg'):\n",
    "        image = cv2.imread(imagepath,0)\n",
    "        image = image/255\n",
    "        list_images.append(image.astype(np.float32))\n",
    "        if len(list_images) == 2000:\n",
    "            break\n",
    "    return list_images\n",
    "\n",
    "face_list = im_read_dir(face_path)\n",
    "n_face_list = im_read_dir(n_face_path)\n",
    "\n",
    "face_y = [1]*1600\n",
    "n_face_y = [0]*1600\n",
    "labels = face_y + n_face_y\n",
    "f_data_train = face_list[:1600]\n",
    "nf_data_train = n_face_list[:1600]\n",
    "data = f_data_train + nf_data_train\n",
    "data = np.asarray(data)\n",
    "t_data = face_list[1600:] + n_face_list[1600:]\n",
    "t_data = np.asarray(t_data)\n",
    "t_labels = [1]*400 + [0]*400\n",
    "category_ct = 2\n",
    "(xTrain, xVal, yTrain, yVal) = train_test_split(data,labels, test_size=0.15)\n",
    "yTrain = to_categorical(yTrain, category_ct)\n",
    "yVal = to_categorical(yVal, category_ct)"
   ]
  },
  {
   "cell_type": "code",
   "execution_count": 3,
   "id": "eb52fcac",
   "metadata": {},
   "outputs": [],
   "source": [
    "# Data Augmentation\n",
    "width_shift = 3/32\n",
    "height_shift = 3/32\n",
    "flip = True\n",
    "data_aug = ImageDataGenerator(horizontal_flip=flip,\n",
    "                             rotation_range=35, width_shift_range=0.1,height_shift_range=0.1,\n",
    "                             zoom_range=0.3,shear_range=0.1, fill_mode=\"reflect\")"
   ]
  },
  {
   "cell_type": "code",
   "execution_count": 7,
   "id": "a65694d5",
   "metadata": {},
   "outputs": [
    {
     "name": "stdout",
     "output_type": "stream",
     "text": [
      "Epoch 1/14\n",
      "43/43 [==============================] - 1s 9ms/step - loss: 0.4442 - accuracy: 0.8096 - val_loss: 0.6629 - val_accuracy: 0.7563\n",
      "Epoch 2/14\n",
      "43/43 [==============================] - 0s 7ms/step - loss: 0.3316 - accuracy: 0.8636 - val_loss: 0.6345 - val_accuracy: 0.8500\n",
      "Epoch 3/14\n",
      "43/43 [==============================] - 0s 6ms/step - loss: 0.2927 - accuracy: 0.8875 - val_loss: 0.6089 - val_accuracy: 0.8708\n",
      "Epoch 4/14\n",
      "43/43 [==============================] - 0s 6ms/step - loss: 0.2649 - accuracy: 0.9011 - val_loss: 0.5739 - val_accuracy: 0.8833\n",
      "Epoch 5/14\n",
      "43/43 [==============================] - 0s 7ms/step - loss: 0.2492 - accuracy: 0.9107 - val_loss: 0.5481 - val_accuracy: 0.8875\n",
      "Epoch 6/14\n",
      "43/43 [==============================] - 0s 6ms/step - loss: 0.2374 - accuracy: 0.9140 - val_loss: 0.5100 - val_accuracy: 0.8667\n",
      "Epoch 7/14\n",
      "43/43 [==============================] - 0s 6ms/step - loss: 0.2245 - accuracy: 0.9217 - val_loss: 0.4655 - val_accuracy: 0.8833\n",
      "Epoch 8/14\n",
      "43/43 [==============================] - 0s 6ms/step - loss: 0.2170 - accuracy: 0.9261 - val_loss: 0.4162 - val_accuracy: 0.8833\n",
      "Epoch 9/14\n",
      "43/43 [==============================] - 0s 6ms/step - loss: 0.2087 - accuracy: 0.9324 - val_loss: 0.3856 - val_accuracy: 0.9042\n",
      "Epoch 10/14\n",
      "43/43 [==============================] - 0s 6ms/step - loss: 0.2055 - accuracy: 0.9239 - val_loss: 0.3401 - val_accuracy: 0.8833\n",
      "Epoch 11/14\n",
      "43/43 [==============================] - 0s 7ms/step - loss: 0.1910 - accuracy: 0.9364 - val_loss: 0.3026 - val_accuracy: 0.9187\n",
      "Epoch 12/14\n",
      "43/43 [==============================] - 0s 6ms/step - loss: 0.1814 - accuracy: 0.9401 - val_loss: 0.2948 - val_accuracy: 0.9104\n",
      "Epoch 13/14\n",
      "43/43 [==============================] - 0s 6ms/step - loss: 0.1874 - accuracy: 0.9305 - val_loss: 0.2560 - val_accuracy: 0.9250\n",
      "Epoch 14/14\n",
      "43/43 [==============================] - 0s 6ms/step - loss: 0.1802 - accuracy: 0.9371 - val_loss: 0.2433 - val_accuracy: 0.9187\n"
     ]
    }
   ],
   "source": [
    "# Data Normalization\n",
    "xTrain -= np.mean(xTrain)\n",
    "xVal -= np.mean(xVal)\n",
    "xTrain /= np.std(xTrain, axis = 0)\n",
    "xVal /= np.std(xVal, axis = 0)\n",
    "\n",
    "# initializer = tf.keras.initializers.RandomNormal(mean=0, stddev=0.1, seed=None)\n",
    "initializer = tf.keras.initializers.GlorotNormal(seed=None)\n",
    "# initializer = tf.keras.initializers.HeNormal(seed=None)\n",
    "# initializer = tf.keras.initializers.Zeros()\n",
    "class LeNet:\n",
    "    def build(width, height, depth,category_ct, reg,lr):\n",
    "        model = Sequential()\n",
    "        inputShape = (height, width, depth)\n",
    "        model.add(Conv2D(6, kernel_initializer=initializer,kernel_size=(5, 5), strides= (1,1), padding=\"same\",input_shape=inputShape))\n",
    "#         model.add(Activation(\"relu\"))\n",
    "        model.add(Activation(\"LeakyReLU\")) \n",
    "#         model.add(Activation(\"tanh\")) \n",
    "        model.add(AveragePooling2D(pool_size=(2, 2),strides= (2,2)))   \n",
    "        model.add(Conv2D(16,kernel_initializer=initializer,kernel_size= (5, 5), strides= (1,1), padding=\"valid\",input_shape=inputShape))\n",
    "#         model.add(Activation(\"relu\"))\n",
    "        model.add(Activation(\"LeakyReLU\")) \n",
    "#         model.add(Activation(\"tanh\")) \n",
    "        model.add(AveragePooling2D(pool_size=(2, 2),strides= (2,2)))\n",
    "        model.add(Flatten())\n",
    "#         model.add(Dense(120, activation='relu',activity_regularizer=regularizers.l2(0)))\n",
    "#         model.add(Dense(84, activation='relu',activity_regularizer=regularizers.l2(0)))\n",
    "        model.add(Dense(120, activation='LeakyReLU',activity_regularizer=regularizers.l2(reg)))\n",
    "        model.add(Dense(84, activation='LeakyReLU',activity_regularizer=regularizers.l2(reg)))\n",
    "#         model.add(Dense(120, activation='tanh',activity_regularizer=regularizers.l2(0)))\n",
    "#         model.add(Dense(84, activation='tanh',activity_regularizer=regularizers.l2(0)))\n",
    "        model.add(BatchNormalization())\n",
    "        model.add(Dense(category_ct,activation = 'softmax'))\n",
    "        model.compile(loss=categorical_crossentropy,metrics=['accuracy'], optimizer= tf.keras.optimizers.SGD(learning_rate=lr))\n",
    "#         model.compile(loss=categorical_crossentropy,metrics=['accuracy'], optimizer= tf.keras.optimizers.RMSprop(learning_rate=0.01))\n",
    "#         model.compile(loss=categorical_crossentropy,metrics=['accuracy'], optimizer= tf.keras.optimizers.Adam(learning_rate=0.01))\n",
    "        return model\n",
    "\n",
    "\n",
    "ep = 14\n",
    "\n",
    "#  Search\n",
    "\n",
    "# for ct in range(2,5):\n",
    "#     for iterr in range (0,10):\n",
    "#         keras.backend.clear_session()\n",
    "#         reg = random()*pow(10,np.random.randint(-5,0))\n",
    "#         lr = random()*pow(10,-ct)\n",
    "#         print(\"learning rate:\",lr,\"reg\",reg)\n",
    "#         model = LeNet.build(20,20,1,2,reg,lr)\n",
    "#         model.fit(xTrain, yTrain,validation_data=(xVal, yVal),epochs=ep, verbose=1)\n",
    "#         iterr = iterr+1\n",
    "\n",
    "\n",
    "model = LeNet.build(20,20,1, category_ct,0.0214,0.0087)\n",
    "trained_model = model.fit(xTrain, yTrain,validation_data=(xVal, yVal),epochs=ep, verbose=1,batch_size=64)\n",
    "\n",
    "# With Data Augmentation\n",
    "# data_aug.fit(xTrain.reshape(2720, 20, 20, 1))\n",
    "# trained_model_aug = model.fit(data_aug.flow(xTrain.reshape(2720, 20, 20, 1), yTrain, batch_size=32),\n",
    "#                               validation_data=(xVal, yVal),epochs=ep, verbose=1)\n"
   ]
  },
  {
   "cell_type": "code",
   "execution_count": 8,
   "id": "ec7c2fc7",
   "metadata": {
    "scrolled": true
   },
   "outputs": [
    {
     "name": "stdout",
     "output_type": "stream",
     "text": [
      "              precision    recall  f1-score   support\n",
      "\n",
      "        Face       0.89      0.93      0.91       400\n",
      "    Non_Face       0.92      0.89      0.90       400\n",
      "\n",
      "    accuracy                           0.91       800\n",
      "   macro avg       0.91      0.91      0.91       800\n",
      "weighted avg       0.91      0.91      0.91       800\n",
      "\n"
     ]
    }
   ],
   "source": [
    "t_data -= np.mean(t_data)\n",
    "t_data /= np.std(t_data, axis = 0)\n",
    "\n",
    "y_predicted = []\n",
    "op=[0]*len(t_data)\n",
    "ct=0\n",
    "for i in t_data:\n",
    "    i = np.expand_dims(i, axis=0)\n",
    "    pr = model.predict(i)[0]\n",
    "    pred=int(np.argmax(pr))\n",
    "    y_predicted.append(pred)\n",
    "    ct+=1    \n",
    "    \n",
    "ct1 = 0\n",
    "for i in range (0,len(t_labels),1):\n",
    "    if y_predicted[i] == t_labels[i]:\n",
    "        ct1 +=1\n",
    "\n",
    "y_true = t_labels\n",
    "target_names = ['Face', 'Non_Face']\n",
    "print(classification_report(y_true, y_predicted, target_names=target_names))"
   ]
  },
  {
   "cell_type": "code",
   "execution_count": 9,
   "id": "75eb3684",
   "metadata": {},
   "outputs": [
    {
     "data": {
      "image/png": "[encoded data removed]",
      "text/plain": [
       "<Figure size 432x288 with 1 Axes>"
      ]
     },
     "metadata": {
      "needs_background": "light"
     },
     "output_type": "display_data"
    }
   ],
   "source": [
    "fig = plt.figure()\n",
    "\n",
    "plt.plot(trained_model.history['loss'],\n",
    "         label='train loss',\n",
    "         c='green', ls='-')\n",
    "plt.plot(trained_model.history['val_loss'],\n",
    "         label='val loss',\n",
    "         c='green',ls='--')\n",
    "\n",
    "# plt.plot(trained_model_aug.history['loss'],\n",
    "#          label='train loss aug',\n",
    "#          c='blue', ls='-')\n",
    "# plt.plot(trained_model_aug.history['val_loss'],\n",
    "#          label='val loss aug',\n",
    "#          c='blue',ls='--')\n",
    "\n",
    "plt.xlabel('Epoch')\n",
    "plt.ylabel('Loss')\n",
    "plt.legend(loc='upper right')\n",
    "plt.show()"
   ]
  },
  {
   "cell_type": "code",
   "execution_count": null,
   "id": "4e470bf7",
   "metadata": {},
   "outputs": [],
   "source": []
  }
 ],
 "metadata": {
  "kernelspec": {
   "display_name": "Python 3 (ipykernel)",
   "language": "python",
   "name": "python3"
  },
  "language_info": {
   "codemirror_mode": {
    "name": "ipython",
    "version": 3
   },
   "file_extension": ".py",
   "mimetype": "text/x-python",
   "name": "python",
   "nbconvert_exporter": "python",
   "pygments_lexer": "ipython3",
   "version": "3.9.7"
  }
 },
 "nbformat": 4,
 "nbformat_minor": 5
}
